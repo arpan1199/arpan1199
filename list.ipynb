{
  "nbformat": 4,
  "nbformat_minor": 0,
  "metadata": {
    "kernelspec": {
      "display_name": "Python 3",
      "language": "python",
      "name": "python3"
    },
    "language_info": {
      "codemirror_mode": {
        "name": "ipython",
        "version": 3
      },
      "file_extension": ".py",
      "mimetype": "text/x-python",
      "name": "python",
      "nbconvert_exporter": "python",
      "pygments_lexer": "ipython3",
      "version": "3.7.3"
    },
    "colab": {
      "name": "list.ipynb",
      "provenance": []
    }
  },
  "cells": [
    {
      "cell_type": "markdown",
      "metadata": {
        "id": "NMjoeyBlvxd0"
      },
      "source": [
        "#### <br>*If you are using Google Colab, first run the code cell below. You can run a cell by clicking in the cell and clicking on the arrow that appears on the left side of the cell. DO NOT run this cell if you are not using Google Colab.*"
      ]
    },
    {
      "cell_type": "code",
      "metadata": {
        "id": "QdfJpUjrvxd3",
        "outputId": "2019cb8e-1c5f-45ba-ddc1-73cae5ffb5d6",
        "colab": {
          "base_uri": "https://localhost:8080/"
        }
      },
      "source": [
        "!wget https://raw.githubusercontent.com/aGitHasNoName/listComprehension/main/genelengths.txt\n",
        "!wget https://raw.githubusercontent.com/aGitHasNoName/listComprehension/main/genes.txt\n",
        "!wget https://github.com/aGitHasNoName/listComprehension/blob/main/syntax.png"
      ],
      "execution_count": 1,
      "outputs": [
        {
          "output_type": "stream",
          "text": [
            "--2021-07-14 16:00:14--  https://raw.githubusercontent.com/aGitHasNoName/listComprehension/main/genelengths.txt\n",
            "Resolving raw.githubusercontent.com (raw.githubusercontent.com)... 185.199.111.133, 185.199.110.133, 185.199.108.133, ...\n",
            "Connecting to raw.githubusercontent.com (raw.githubusercontent.com)|185.199.111.133|:443... connected.\n",
            "HTTP request sent, awaiting response... 200 OK\n",
            "Length: 205 [text/plain]\n",
            "Saving to: ‘genelengths.txt’\n",
            "\n",
            "\rgenelengths.txt       0%[                    ]       0  --.-KB/s               \rgenelengths.txt     100%[===================>]     205  --.-KB/s    in 0s      \n",
            "\n",
            "2021-07-14 16:00:14 (12.0 MB/s) - ‘genelengths.txt’ saved [205/205]\n",
            "\n",
            "--2021-07-14 16:00:14--  https://raw.githubusercontent.com/aGitHasNoName/listComprehension/main/genes.txt\n",
            "Resolving raw.githubusercontent.com (raw.githubusercontent.com)... 185.199.109.133, 185.199.108.133, 185.199.110.133, ...\n",
            "Connecting to raw.githubusercontent.com (raw.githubusercontent.com)|185.199.109.133|:443... connected.\n",
            "HTTP request sent, awaiting response... 200 OK\n",
            "Length: 202 [text/plain]\n",
            "Saving to: ‘genes.txt’\n",
            "\n",
            "genes.txt           100%[===================>]     202  --.-KB/s    in 0s      \n",
            "\n",
            "2021-07-14 16:00:14 (11.8 MB/s) - ‘genes.txt’ saved [202/202]\n",
            "\n",
            "--2021-07-14 16:00:14--  https://github.com/aGitHasNoName/listComprehension/blob/main/syntax.png\n",
            "Resolving github.com (github.com)... 140.82.114.4\n",
            "Connecting to github.com (github.com)|140.82.114.4|:443... connected.\n",
            "HTTP request sent, awaiting response... 200 OK\n",
            "Length: unspecified [text/html]\n",
            "Saving to: ‘syntax.png’\n",
            "\n",
            "syntax.png              [ <=>                ] 113.16K  --.-KB/s    in 0.08s   \n",
            "\n",
            "2021-07-14 16:00:14 (1.43 MB/s) - ‘syntax.png’ saved [115877]\n",
            "\n"
          ],
          "name": "stdout"
        }
      ]
    },
    {
      "cell_type": "markdown",
      "metadata": {
        "id": "0gB7c_l1vxd4"
      },
      "source": [
        "# <br><br>List comprehension"
      ]
    },
    {
      "cell_type": "markdown",
      "metadata": {
        "id": "Iy9FDlyTvxd4"
      },
      "source": [
        "Notebook contents:\n",
        "<br>Part One - Introduction\n",
        "<br>Part Two - 7 uses of List Comprehensions with exercises\n",
        "<br>Part Three - Dictionary Comprehensions"
      ]
    },
    {
      "cell_type": "markdown",
      "metadata": {
        "id": "qAqf5ZLavxd5"
      },
      "source": [
        "## Part One - Introduction"
      ]
    },
    {
      "cell_type": "markdown",
      "metadata": {
        "id": "5S2HjrPDvxd5"
      },
      "source": [
        "#### Review: What is a list?"
      ]
    },
    {
      "cell_type": "markdown",
      "metadata": {
        "id": "FG_AN5vmvxd5"
      },
      "source": [
        "- A collection of objects\n",
        "- The objects in a list are stored in order\n",
        "- Designated by square brackets\n",
        "- Objects are separated by commas\n",
        "- Great for looping through\n",
        "- One of the most commonly used objects in Python"
      ]
    },
    {
      "cell_type": "code",
      "metadata": {
        "id": "KIZ6DKZhvxd6"
      },
      "source": [
        "#A sample Python list of food-themed video games\n",
        "food_games = [\"BurgerTime\", \"Food Fight\", \"Pac-Man\", \"Order Up!\", \n",
        "              \"Cooking Mama\", \"Kool-Aid Man\", \"Pizza Tycoon\"]"
      ],
      "execution_count": 2,
      "outputs": []
    },
    {
      "cell_type": "markdown",
      "metadata": {
        "id": "Za-LjdCKvxd6"
      },
      "source": [
        "*If you are new to Jupyter notebooks, each gray cell is a piece of code. To run the code, click inside the gray cell and either click the triangle button up top, or press shift+return (or shift+enter) on your keyboard. If you are using Google Colab, shift+return should also work.*"
      ]
    },
    {
      "cell_type": "markdown",
      "metadata": {
        "id": "9O76MpNAvxd7"
      },
      "source": [
        "#### <br>What is a list comprehension?"
      ]
    },
    {
      "cell_type": "markdown",
      "metadata": {
        "id": "LRF-TVSIvxd7"
      },
      "source": [
        "A list comprehension is a way to make a new list and add certain items to that list in one line of code.\n",
        "<br><br>A list comprehension replaces the code to make an empty list and use a *for loop* to append items onto the empty list.\n",
        "<br><br>If you're still confused about what exactly it is, don't worry, we'll get to some examples soon."
      ]
    },
    {
      "cell_type": "markdown",
      "metadata": {
        "id": "kt0FjAZMvxd7"
      },
      "source": [
        "#### <br>Why use a list comprehension?"
      ]
    },
    {
      "cell_type": "markdown",
      "metadata": {
        "id": "94JTvDP1vxd8"
      },
      "source": [
        "- Faster to type\n",
        "- Neater - turns something big and clunky into something straightforward\n",
        "- Faster to run than writing a for loop"
      ]
    },
    {
      "cell_type": "markdown",
      "metadata": {
        "id": "GeCaAXRNvxd8"
      },
      "source": [
        "#### <br>When should you use a list comprehension?"
      ]
    },
    {
      "cell_type": "markdown",
      "metadata": {
        "id": "2zgG74fwvxd8"
      },
      "source": [
        "- If you are appending to an empty list using a for loop\n",
        "- AND, the list is the only output of your for loop"
      ]
    },
    {
      "cell_type": "markdown",
      "metadata": {
        "id": "2XPkSD0Mvxd8"
      },
      "source": [
        "#### <br>How to write a list comprehension"
      ]
    },
    {
      "cell_type": "markdown",
      "metadata": {
        "id": "iF_gBcwxvxd9"
      },
      "source": [
        "When it comes to making lists, a list comprehension and a *for loop* are just two ways of saying the same thing."
      ]
    },
    {
      "cell_type": "markdown",
      "metadata": {
        "id": "cZcWEvPTvxd9"
      },
      "source": [
        "Let's say you're going to the grocery store with a list of items you want to buy, but it is March 2020, so the store is missing a lot of items on your list. You could phrase your sentence in either of these two ways:\n",
        "1. For every item on the shopping list, if the item is available at the store, I will add the item to my cart.\n",
        "2. I will add the item to my cart for every item on the shopping list, if the item is available in the store.\n"
      ]
    },
    {
      "cell_type": "markdown",
      "metadata": {
        "id": "amsEK3qFvxd9"
      },
      "source": [
        "**Now let's write the same scenario in Python code:**"
      ]
    },
    {
      "cell_type": "markdown",
      "metadata": {
        "id": "ld9j_V8Kvxd9"
      },
      "source": [
        "First, we'll save our shopping list."
      ]
    },
    {
      "cell_type": "code",
      "metadata": {
        "id": "5tZaAIrTvxd9"
      },
      "source": [
        "shop_list = [\"oranges\", \"bread\", \"frozen spinach\", \"ice cream\", \"toilet paper\"]"
      ],
      "execution_count": 12,
      "outputs": []
    },
    {
      "cell_type": "code",
      "metadata": {
        "id": "wTQzNZWuzgKR"
      },
      "source": [
        ""
      ],
      "execution_count": null,
      "outputs": []
    },
    {
      "cell_type": "markdown",
      "metadata": {
        "id": "dTLCP6Rjvxd-"
      },
      "source": [
        "Next, we'll save the list of items available at the store."
      ]
    },
    {
      "cell_type": "code",
      "metadata": {
        "id": "mfdP8_Ervxd-"
      },
      "source": [
        "store_list = [\"oranges\", \"milk\", \"bar soap\", \"pears\", \"canned artichokes\", \n",
        "              \"frozen spinach\", \"frozen burrito\", \"ice cream\", \"peanuts\"]"
      ],
      "execution_count": 13,
      "outputs": []
    },
    {
      "cell_type": "markdown",
      "metadata": {
        "id": "XnII9a8lvxd-"
      },
      "source": [
        "### <br>Exercise 0"
      ]
    },
    {
      "cell_type": "markdown",
      "metadata": {
        "id": "PwFECUXIvxd-"
      },
      "source": [
        "Forget about list comprehensions for a minute. Using what you already know, write Python code to make a new list that only includes the items in `shop_list` that are also in `store_list`."
      ]
    },
    {
      "cell_type": "code",
      "metadata": {
        "id": "y0OQNvQVvxd-",
        "outputId": "e28f5ab1-644c-48f6-f58a-671b3c6b35c2",
        "colab": {
          "base_uri": "https://localhost:8080/"
        }
      },
      "source": [
        "ok_list = []\n",
        "for i in store_list:\n",
        "  if i in shop_list[:]:\n",
        "    ok_list.append(i)\n",
        "  else:\n",
        "    pass\n",
        "print(ok_list)"
      ],
      "execution_count": 15,
      "outputs": [
        {
          "output_type": "stream",
          "text": [
            "['oranges', 'frozen spinach', 'ice cream']\n"
          ],
          "name": "stdout"
        }
      ]
    },
    {
      "cell_type": "code",
      "metadata": {
        "id": "JDWuK4MXvxd-"
      },
      "source": [
        ""
      ],
      "execution_count": null,
      "outputs": []
    },
    {
      "cell_type": "markdown",
      "metadata": {
        "id": "6jURqC5-vxd-"
      },
      "source": [
        "<br>*<br>*<br>*<br>*<br>*<br>*"
      ]
    },
    {
      "cell_type": "markdown",
      "metadata": {
        "id": "_j_ZV3ZUvxd_"
      },
      "source": [
        "The code you wrote might look something like this:"
      ]
    },
    {
      "cell_type": "markdown",
      "metadata": {
        "id": "uCK__91Bvxd_"
      },
      "source": [
        "**for loop solution**"
      ]
    },
    {
      "cell_type": "code",
      "metadata": {
        "id": "z8C8IgnRvxd_"
      },
      "source": [
        "my_cart = []\n",
        "for item in shop_list:\n",
        "    if item in store_list:\n",
        "        my_cart.append(item)\n",
        "print(my_cart)"
      ],
      "execution_count": null,
      "outputs": []
    },
    {
      "cell_type": "markdown",
      "metadata": {
        "id": "mR40DryUvxd_"
      },
      "source": [
        "<br>To make this code faster to type, one thing we can change is the length of the temporary variable that gets created in our *for loop*. `i` is a very commonly used name for a variable that is only used inside a *for loop*."
      ]
    },
    {
      "cell_type": "markdown",
      "metadata": {
        "id": "yzIJLhXDvxd_"
      },
      "source": [
        "**for loop solution**"
      ]
    },
    {
      "cell_type": "code",
      "metadata": {
        "id": "--4xb2pHvxd_",
        "outputId": "7bd6ddc1-ac52-48ea-c973-fdb71e423054",
        "colab": {
          "base_uri": "https://localhost:8080/"
        }
      },
      "source": [
        "my_cart = []\n",
        "for i in shop_list:\n",
        "    if i in store_list:\n",
        "        my_cart.append(i)\n",
        "print(my_cart)"
      ],
      "execution_count": 16,
      "outputs": [
        {
          "output_type": "stream",
          "text": [
            "['oranges', 'frozen spinach', 'ice cream']\n"
          ],
          "name": "stdout"
        }
      ]
    },
    {
      "cell_type": "markdown",
      "metadata": {
        "id": "qQ2usv9dvxd_"
      },
      "source": [
        "<br>All of the code in the cell above (except the print statement) can be written as a list comprehension. It would look like this:"
      ]
    },
    {
      "cell_type": "markdown",
      "metadata": {
        "id": "_wvmt3Kfvxd_"
      },
      "source": [
        "**list comprehension solution**"
      ]
    },
    {
      "cell_type": "code",
      "metadata": {
        "id": "FX16DNfuvxeA",
        "outputId": "f46ed1ac-fac7-44b4-eb9e-dfddf8fe16f4",
        "colab": {
          "base_uri": "https://localhost:8080/"
        }
      },
      "source": [
        "my_cart = [i for i in shop_list if i in store_list]\n",
        "print(my_cart)"
      ],
      "execution_count": 17,
      "outputs": [
        {
          "output_type": "stream",
          "text": [
            "['oranges', 'frozen spinach', 'ice cream']\n"
          ],
          "name": "stdout"
        }
      ]
    },
    {
      "cell_type": "markdown",
      "metadata": {
        "id": "L6NfKchyvxeA"
      },
      "source": [
        "#### <br>List comprehension syntax"
      ]
    },
    {
      "cell_type": "markdown",
      "metadata": {
        "id": "Mbkbg1RxvxeA"
      },
      "source": [
        "The figure below shows how each line of code in the *for loop* solution is transferred to the syntax of the list comprehension."
      ]
    },
    {
      "cell_type": "markdown",
      "metadata": {
        "id": "HCpAHNn4vxeA"
      },
      "source": [
        "![syntax](https://github.com/aGitHasNoName/listComprehension/blob/main/syntax.png?raw=1 \"\")"
      ]
    },
    {
      "cell_type": "markdown",
      "metadata": {
        "id": "oKOC-UnJvxeA"
      },
      "source": [
        "## <br><br>Part 2 - 7 uses of list comprehensions with exercises"
      ]
    },
    {
      "cell_type": "markdown",
      "metadata": {
        "id": "BlJ_wKhevxeA"
      },
      "source": [
        "7 uses of list comprehensions:\n",
        "1. make a list of items that are shared (or unique) between two lists\n",
        "2. make a list of numbers in a certain range\n",
        "3. change all the items in a list in the same way\n",
        "4. filter a list by some condition (or multiple conditions)\n",
        "5. filter a dictionary by some condition (or multiple conditions)\n",
        "6. make a list out of the lines in a file\n",
        "7. make a list out of comma-separated items in a file\n",
        "\n",
        "We will also cover dictionary comprehensions."
      ]
    },
    {
      "cell_type": "markdown",
      "metadata": {
        "id": "SHNkJoiIvxeB"
      },
      "source": [
        "### Example 1: Finding items that are shared between two lists"
      ]
    },
    {
      "cell_type": "markdown",
      "metadata": {
        "id": "_j5MbRlDvxeB"
      },
      "source": [
        "This is the example we just completed at the end of Part One:"
      ]
    },
    {
      "cell_type": "code",
      "metadata": {
        "id": "olollsrivxeB"
      },
      "source": [
        "store_list = [\"oranges\", \"milk\", \"bar soap\", \"pears\", \"canned artichokes\", \"frozen spinach\", \n",
        "              \"frozen burrito\", \"ice cream\", \"peanuts\"]\n",
        "\n",
        "shop_list = [\"oranges\", \"bread\", \"frozen spinach\", \"ice cream\", \"toilet paper\"]"
      ],
      "execution_count": null,
      "outputs": []
    },
    {
      "cell_type": "markdown",
      "metadata": {
        "id": "Lqk7zsLtvxeB"
      },
      "source": [
        "#### `for` loop"
      ]
    },
    {
      "cell_type": "code",
      "metadata": {
        "id": "2WyOjHIHvxeB"
      },
      "source": [
        "my_cart = []\n",
        "for i in shop_list:\n",
        "    if i in store_list:\n",
        "        my_cart.append(i)\n",
        "print(my_cart)"
      ],
      "execution_count": null,
      "outputs": []
    },
    {
      "cell_type": "markdown",
      "metadata": {
        "id": "RK7c3xUlvxeB"
      },
      "source": [
        "#### list comprehension"
      ]
    },
    {
      "cell_type": "code",
      "metadata": {
        "id": "4n29u2_4vxeB"
      },
      "source": [
        "my_cart = [i for i in shop_list if i in store_list]\n",
        "print(my_cart)"
      ],
      "execution_count": null,
      "outputs": []
    },
    {
      "cell_type": "markdown",
      "metadata": {
        "id": "JI3Dlr4bvxeB"
      },
      "source": [
        "#### <br>Exercise 1"
      ]
    },
    {
      "cell_type": "code",
      "metadata": {
        "id": "f1A5-ktBvxeC"
      },
      "source": [
        "my_numbers = [3, 4, 5, 10, 12, 13, 24, 27, 29, 30, 44, 45]\n",
        "primes = [2, 3, 5, 7, 11, 13, 17, 19, 23, 29, 31, 37, 41, 43, 47]"
      ],
      "execution_count": 18,
      "outputs": []
    },
    {
      "cell_type": "markdown",
      "metadata": {
        "id": "uIShpzFjvxeC"
      },
      "source": [
        "<br>Run the cell above to store the two lists. Write a list comprehension in the cell below to make a new list called `my_primes` that contains all the numbers in `my_numbers` that are also in `primes`."
      ]
    },
    {
      "cell_type": "code",
      "metadata": {
        "id": "FZRN17YQvxeC"
      },
      "source": [
        "my_primes = [i for i in my_numbers if i in primes]"
      ],
      "execution_count": 19,
      "outputs": []
    },
    {
      "cell_type": "code",
      "metadata": {
        "id": "x0yacha-vxeC",
        "outputId": "2a40be68-d4ee-4d48-ce18-d32d8172faa4",
        "colab": {
          "base_uri": "https://localhost:8080/"
        }
      },
      "source": [
        "print(my_primes)"
      ],
      "execution_count": 20,
      "outputs": [
        {
          "output_type": "stream",
          "text": [
            "[3, 5, 13, 29]\n"
          ],
          "name": "stdout"
        }
      ]
    },
    {
      "cell_type": "markdown",
      "metadata": {
        "id": "xY4dWagFvxeC"
      },
      "source": [
        "<br>You can also use list comprehension to find items that are not shared between two lists."
      ]
    },
    {
      "cell_type": "markdown",
      "metadata": {
        "id": "gw7mOTBTvxeC"
      },
      "source": [
        "Write a list comprehension to make a list called `not_primes`. It should contain all the numbers in the `my_numbers` list that are `not in` the `primes list`."
      ]
    },
    {
      "cell_type": "code",
      "metadata": {
        "id": "aNhYgb85vxeC"
      },
      "source": [
        "not_primes = [i for i in my_numbers if i not in primes]"
      ],
      "execution_count": 21,
      "outputs": []
    },
    {
      "cell_type": "code",
      "metadata": {
        "id": "UduWA5bgvxeC",
        "outputId": "d76055a8-fd1c-43e4-d8af-e5dd1bc0e4b5",
        "colab": {
          "base_uri": "https://localhost:8080/"
        }
      },
      "source": [
        "print(not_primes)"
      ],
      "execution_count": 22,
      "outputs": [
        {
          "output_type": "stream",
          "text": [
            "[4, 10, 12, 24, 27, 30, 44, 45]\n"
          ],
          "name": "stdout"
        }
      ]
    },
    {
      "cell_type": "markdown",
      "metadata": {
        "id": "YD6xquTCvxeC"
      },
      "source": [
        "### <br><br>Example 2: Lists of numbers in a certain range"
      ]
    },
    {
      "cell_type": "markdown",
      "metadata": {
        "id": "o9-H8L6uvxeC"
      },
      "source": [
        "`range` is a handy function to use when you want to loop through a list of sequential numbers. You can give it parameters for which number to start with, which number to end with, and how many numbers to increment by."
      ]
    },
    {
      "cell_type": "markdown",
      "metadata": {
        "id": "8DMu9wVAvxeC"
      },
      "source": [
        "#### `for` loops"
      ]
    },
    {
      "cell_type": "code",
      "metadata": {
        "id": "22uVVM0JvxeD",
        "outputId": "15e82d63-bcdb-481d-d8b8-b875b64133ae",
        "colab": {
          "base_uri": "https://localhost:8080/"
        }
      },
      "source": [
        "for i in range(0,10):\n",
        "    print(i)"
      ],
      "execution_count": 23,
      "outputs": [
        {
          "output_type": "stream",
          "text": [
            "0\n",
            "1\n",
            "2\n",
            "3\n",
            "4\n",
            "5\n",
            "6\n",
            "7\n",
            "8\n",
            "9\n"
          ],
          "name": "stdout"
        }
      ]
    },
    {
      "cell_type": "markdown",
      "metadata": {
        "id": "xT7c8kQzvxeD"
      },
      "source": [
        "Remember that Python does not include the last number when indexing, so 10 is not included."
      ]
    },
    {
      "cell_type": "code",
      "metadata": {
        "id": "BW9O3F3BvxeD",
        "outputId": "8c986f6e-f277-47d6-e6fc-c675e7a49521",
        "colab": {
          "base_uri": "https://localhost:8080/"
        }
      },
      "source": [
        "for i in range(1,11):\n",
        "    print(i)"
      ],
      "execution_count": 24,
      "outputs": [
        {
          "output_type": "stream",
          "text": [
            "1\n",
            "2\n",
            "3\n",
            "4\n",
            "5\n",
            "6\n",
            "7\n",
            "8\n",
            "9\n",
            "10\n"
          ],
          "name": "stdout"
        }
      ]
    },
    {
      "cell_type": "code",
      "metadata": {
        "id": "84pM6KvpvxeD",
        "outputId": "c4adae71-b369-4a46-f697-eb53c16e44b2",
        "colab": {
          "base_uri": "https://localhost:8080/"
        }
      },
      "source": [
        "#print odd numbers between 1 and 10\n",
        "for i in range(1,11,2):\n",
        "    print(i)"
      ],
      "execution_count": 25,
      "outputs": [
        {
          "output_type": "stream",
          "text": [
            "1\n",
            "3\n",
            "5\n",
            "7\n",
            "9\n"
          ],
          "name": "stdout"
        }
      ]
    },
    {
      "cell_type": "code",
      "metadata": {
        "id": "35wu-FCjvxeD"
      },
      "source": [
        "#print even numbers between 1 and 10\n",
        "for i in range(2,11,2):\n",
        "    print(i)"
      ],
      "execution_count": null,
      "outputs": []
    },
    {
      "cell_type": "markdown",
      "metadata": {
        "id": "LrNCr3rvvxeD"
      },
      "source": [
        "#### list comprehension"
      ]
    },
    {
      "cell_type": "code",
      "metadata": {
        "id": "9SyiCqw0vxeD",
        "outputId": "6c729ffe-4bc9-43b5-f1ad-faefafcb8e54",
        "colab": {
          "base_uri": "https://localhost:8080/"
        }
      },
      "source": [
        "even_numbers = [i for i in range(2,11,2)]\n",
        "print(even_numbers)"
      ],
      "execution_count": 26,
      "outputs": [
        {
          "output_type": "stream",
          "text": [
            "[2, 4, 6, 8, 10]\n"
          ],
          "name": "stdout"
        }
      ]
    },
    {
      "cell_type": "markdown",
      "metadata": {
        "id": "D4zlIG4NvxeD"
      },
      "source": [
        "#### <br>Exercise 2"
      ]
    },
    {
      "cell_type": "markdown",
      "metadata": {
        "id": "PZeEn1cLvxeD"
      },
      "source": [
        "Write a list comprehension to make a list called `threes` of every third number between 3 and 99. "
      ]
    },
    {
      "cell_type": "code",
      "metadata": {
        "id": "tgvWqbbYvxeD",
        "outputId": "f358cc9f-cb94-4e81-eed6-073c8a4e1e40",
        "colab": {
          "base_uri": "https://localhost:8080/"
        }
      },
      "source": [
        "threes = [i for i in range(3,99,3)]\n",
        "print(threes)"
      ],
      "execution_count": 27,
      "outputs": [
        {
          "output_type": "stream",
          "text": [
            "[3, 6, 9, 12, 15, 18, 21, 24, 27, 30, 33, 36, 39, 42, 45, 48, 51, 54, 57, 60, 63, 66, 69, 72, 75, 78, 81, 84, 87, 90, 93, 96]\n"
          ],
          "name": "stdout"
        }
      ]
    },
    {
      "cell_type": "code",
      "metadata": {
        "id": "7fga9n8pvxeE",
        "outputId": "4c234c7c-417f-43c8-ee24-48f2f8be7e4d",
        "colab": {
          "base_uri": "https://localhost:8080/"
        }
      },
      "source": [
        "print(threes)"
      ],
      "execution_count": 28,
      "outputs": [
        {
          "output_type": "stream",
          "text": [
            "[3, 6, 9, 12, 15, 18, 21, 24, 27, 30, 33, 36, 39, 42, 45, 48, 51, 54, 57, 60, 63, 66, 69, 72, 75, 78, 81, 84, 87, 90, 93, 96]\n"
          ],
          "name": "stdout"
        }
      ]
    },
    {
      "cell_type": "markdown",
      "metadata": {
        "id": "drR5MsicvxeE"
      },
      "source": [
        "### <br><br>Example 3: Changing all items in a list"
      ]
    },
    {
      "cell_type": "markdown",
      "metadata": {
        "id": "RRIfYUyQvxeE"
      },
      "source": [
        "We can also make changes to `i` before we add it to the list. We do this at the beginning of the list comprehension."
      ]
    },
    {
      "cell_type": "code",
      "metadata": {
        "id": "Te85o25NvxeE",
        "outputId": "5e6c60f5-4b45-408a-bbde-805088d380b9",
        "colab": {
          "base_uri": "https://localhost:8080/"
        }
      },
      "source": [
        "squares = [i**2 for i in range(1,11)]\n",
        "print(squares)"
      ],
      "execution_count": 29,
      "outputs": [
        {
          "output_type": "stream",
          "text": [
            "[1, 4, 9, 16, 25, 36, 49, 64, 81, 100]\n"
          ],
          "name": "stdout"
        }
      ]
    },
    {
      "cell_type": "markdown",
      "metadata": {
        "id": "esEaKVQBvxeE"
      },
      "source": [
        "<br>This makes list comprehension great for making changes to every item in an existing list. For example:"
      ]
    },
    {
      "cell_type": "code",
      "metadata": {
        "id": "FzpNoJJ6vxeE"
      },
      "source": [
        "names = [\"Cathy\", \"alvin\", \"MICAH\", \"tOmAs\"]"
      ],
      "execution_count": 30,
      "outputs": []
    },
    {
      "cell_type": "code",
      "metadata": {
        "id": "izBiTUGovxeE",
        "outputId": "c2d3cbc1-da5b-4d95-ddb8-6271e3040f02",
        "colab": {
          "base_uri": "https://localhost:8080/"
        }
      },
      "source": [
        "names = [i.lower().capitalize() for i in names]\n",
        "print(names)"
      ],
      "execution_count": 33,
      "outputs": [
        {
          "output_type": "stream",
          "text": [
            "['Cathy', 'Alvin', 'Micah', 'Tomas']\n"
          ],
          "name": "stdout"
        }
      ]
    },
    {
      "cell_type": "markdown",
      "metadata": {
        "id": "TvI4NEGavxeE"
      },
      "source": [
        "#### <br>Exercise 3"
      ]
    },
    {
      "cell_type": "code",
      "metadata": {
        "id": "a9ANbCeOvxeE"
      },
      "source": [
        "test_grades = [95, 74, 83, 90, 91, 93, 78, 79, 89, 80]"
      ],
      "execution_count": 34,
      "outputs": []
    },
    {
      "cell_type": "markdown",
      "metadata": {
        "id": "1fofuRP-vxeE"
      },
      "source": [
        "You are a teacher who wants to give 2 extra credit points to everyone in your class on their latest test. Make a list called `adjusted_grades` that includes a list of new test grades with 2 bonus points added to each of the grades in the `test_grades` list."
      ]
    },
    {
      "cell_type": "code",
      "metadata": {
        "id": "pQMK69KevxeE"
      },
      "source": [
        "adjusted_grades = [i+2 for i in test_grades]"
      ],
      "execution_count": 35,
      "outputs": []
    },
    {
      "cell_type": "code",
      "metadata": {
        "id": "Z85AvCZPvxeF",
        "outputId": "ff6e2b13-092f-4635-da21-c9a9f7b79036",
        "colab": {
          "base_uri": "https://localhost:8080/"
        }
      },
      "source": [
        "print(adjusted_grades)"
      ],
      "execution_count": 36,
      "outputs": [
        {
          "output_type": "stream",
          "text": [
            "[97, 76, 85, 92, 93, 95, 80, 81, 91, 82]\n"
          ],
          "name": "stdout"
        }
      ]
    },
    {
      "cell_type": "markdown",
      "metadata": {
        "id": "z7EhYgYzvxeF"
      },
      "source": [
        "### <br><br>Example 4: Filtering other lists"
      ]
    },
    {
      "cell_type": "markdown",
      "metadata": {
        "id": "ihEdLB6HvxeF"
      },
      "source": [
        "We can include multiple conditionals in our list comprehension."
      ]
    },
    {
      "cell_type": "markdown",
      "metadata": {
        "id": "i0eTzpYvvxeF"
      },
      "source": [
        "Here we have a list of grades. We want to make a list that includes only the grades of students who we want to put on probation. The list will not include students who are failing, so we only want students with grades 60-69."
      ]
    },
    {
      "cell_type": "code",
      "metadata": {
        "id": "vOnEyAtRvxeF",
        "outputId": "160956a9-b445-4ec1-9156-69b5225fdfaa",
        "colab": {
          "base_uri": "https://localhost:8080/"
        }
      },
      "source": [
        "grades = [54, 92, 88, 73, 77, 62, 68, 89, 75, 55, 60, 70, 68]\n",
        "probation_list = [i for i in grades if i < 70 and i > 59]\n",
        "print(probation_list)"
      ],
      "execution_count": 37,
      "outputs": [
        {
          "output_type": "stream",
          "text": [
            "[62, 68, 60, 68]\n"
          ],
          "name": "stdout"
        }
      ]
    },
    {
      "cell_type": "markdown",
      "metadata": {
        "id": "yqV6NoEuvxeF"
      },
      "source": [
        "Notice in the conditional phrase `if i < 70 and i > 59` we only say `if` once at the beginning, but we include `i` in both conditionals."
      ]
    },
    {
      "cell_type": "markdown",
      "metadata": {
        "id": "loEaJTYmvxeF"
      },
      "source": [
        "#### <br>Exercise 4"
      ]
    },
    {
      "cell_type": "code",
      "metadata": {
        "id": "O0Tx5EK5vxeF"
      },
      "source": [
        "students = [\"Jordan\", \"Borden\", \"Gordon\", \"Morgan\", \"Horton\", \n",
        "            \"Zorgon\", \"Corden\", \"Porgan\", \"Argon\"]"
      ],
      "execution_count": 38,
      "outputs": []
    },
    {
      "cell_type": "markdown",
      "metadata": {
        "id": "ghyahyocvxeF"
      },
      "source": [
        "Use list comprehension to make a list called `ABC_list` of all students with names that start with A, B, `or` C. There are several ways to do this."
      ]
    },
    {
      "cell_type": "code",
      "metadata": {
        "id": "GFFUzu9MvxeF"
      },
      "source": [
        "ABC_list = [i for i in students if i[0] in [\"A\",\"B\",\"C\"]]"
      ],
      "execution_count": 49,
      "outputs": []
    },
    {
      "cell_type": "code",
      "metadata": {
        "id": "g2WeNyjGvxeG",
        "outputId": "1b33b36d-04ed-42ad-903e-6de6c7c4abad",
        "colab": {
          "base_uri": "https://localhost:8080/"
        }
      },
      "source": [
        "print(ABC_list)"
      ],
      "execution_count": 50,
      "outputs": [
        {
          "output_type": "stream",
          "text": [
            "['Borden', 'Corden', 'Argon']\n"
          ],
          "name": "stdout"
        }
      ]
    },
    {
      "cell_type": "markdown",
      "metadata": {
        "id": "o-exKCogvxeG"
      },
      "source": [
        "### <br><br>Example 5: Filtering dictionaries"
      ]
    },
    {
      "cell_type": "markdown",
      "metadata": {
        "id": "P3zF6e52vxeG"
      },
      "source": [
        "You can also make a list by filtering a dictionary."
      ]
    },
    {
      "cell_type": "markdown",
      "metadata": {
        "id": "IhE0humxvxeG"
      },
      "source": [
        "In this example, I have a dictionary of objects in our solar system. The keys are the object names and the values are the type of object."
      ]
    },
    {
      "cell_type": "code",
      "metadata": {
        "id": "D0FRATwgvxeG"
      },
      "source": [
        "solar_system = {\"Earth\": \"planet\", \"Venus\": \"planet\", \"Pluto\": \"dwarfplanet\", \n",
        "                \"Neptune\": \"planet\", \"Jupiter\": \"planet\", \"Mars\": \"planet\", \n",
        "                \"Ceres\": \"dwarfplanet\", \"Saturn\": \"planet\", \"Mercury\": \"planet\", \n",
        "                \"Eris\": \"dwarfplanet\", \"Uranus\": \"planet\", \n",
        "                \"Makemake\": \"dwarfplanet\", \"Haumea\": \"dwarfplanet\"}"
      ],
      "execution_count": 51,
      "outputs": []
    },
    {
      "cell_type": "markdown",
      "metadata": {
        "id": "mQYEA6Z7vxeG"
      },
      "source": [
        "<br>Let's review dictionary indexing:"
      ]
    },
    {
      "cell_type": "code",
      "metadata": {
        "id": "YVL5wa_PvxeG",
        "outputId": "1659d2a3-31c2-4869-df2b-5427a84ce433",
        "colab": {
          "base_uri": "https://localhost:8080/"
        }
      },
      "source": [
        "print(\"Keys:\")\n",
        "print(solar_system.keys())"
      ],
      "execution_count": 52,
      "outputs": [
        {
          "output_type": "stream",
          "text": [
            "Keys:\n",
            "dict_keys(['Earth', 'Venus', 'Pluto', 'Neptune', 'Jupiter', 'Mars', 'Ceres', 'Saturn', 'Mercury', 'Eris', 'Uranus', 'Makemake', 'Haumea'])\n"
          ],
          "name": "stdout"
        }
      ]
    },
    {
      "cell_type": "code",
      "metadata": {
        "id": "KAraV5dhvxeG",
        "outputId": "ccac2210-e092-4405-df3c-ae52365d6f61",
        "colab": {
          "base_uri": "https://localhost:8080/"
        }
      },
      "source": [
        "print(\"Values:\")\n",
        "print(solar_system.values())"
      ],
      "execution_count": 53,
      "outputs": [
        {
          "output_type": "stream",
          "text": [
            "Values:\n",
            "dict_values(['planet', 'planet', 'dwarfplanet', 'planet', 'planet', 'planet', 'dwarfplanet', 'planet', 'planet', 'dwarfplanet', 'planet', 'dwarfplanet', 'dwarfplanet'])\n"
          ],
          "name": "stdout"
        }
      ]
    },
    {
      "cell_type": "code",
      "metadata": {
        "id": "dKq9V9HuvxeG",
        "outputId": "45f639d1-a9ba-4c9d-abaf-7230b0c63d83",
        "colab": {
          "base_uri": "https://localhost:8080/"
        }
      },
      "source": [
        "print(\"Keys and Values:\")\n",
        "print(solar_system.items())"
      ],
      "execution_count": 54,
      "outputs": [
        {
          "output_type": "stream",
          "text": [
            "Keys and Values:\n",
            "dict_items([('Earth', 'planet'), ('Venus', 'planet'), ('Pluto', 'dwarfplanet'), ('Neptune', 'planet'), ('Jupiter', 'planet'), ('Mars', 'planet'), ('Ceres', 'dwarfplanet'), ('Saturn', 'planet'), ('Mercury', 'planet'), ('Eris', 'dwarfplanet'), ('Uranus', 'planet'), ('Makemake', 'dwarfplanet'), ('Haumea', 'dwarfplanet')])\n"
          ],
          "name": "stdout"
        }
      ]
    },
    {
      "cell_type": "code",
      "metadata": {
        "id": "h1SNhRo4vxeG",
        "outputId": "821b3847-e947-49b8-88bf-becfd1373716",
        "colab": {
          "base_uri": "https://localhost:8080/",
          "height": 163
        }
      },
      "source": [
        "solar_system[\"Earth\"]"
      ],
      "execution_count": 57,
      "outputs": [
        {
          "output_type": "error",
          "ename": "NameError",
          "evalue": "ignored",
          "traceback": [
            "\u001b[0;31m---------------------------------------------------------------------------\u001b[0m",
            "\u001b[0;31mNameError\u001b[0m                                 Traceback (most recent call last)",
            "\u001b[0;32m<ipython-input-57-df57b87d20ce>\u001b[0m in \u001b[0;36m<module>\u001b[0;34m()\u001b[0m\n\u001b[0;32m----> 1\u001b[0;31m \u001b[0msolar_system\u001b[0m\u001b[0;34m[\u001b[0m\u001b[0mi\u001b[0m \u001b[0;34m==\u001b[0m \u001b[0mEarth\u001b[0m\u001b[0;34m]\u001b[0m\u001b[0;34m\u001b[0m\u001b[0;34m\u001b[0m\u001b[0m\n\u001b[0m",
            "\u001b[0;31mNameError\u001b[0m: name 'Earth' is not defined"
          ]
        }
      ]
    },
    {
      "cell_type": "markdown",
      "metadata": {
        "id": "VY2nSf00vxeG"
      },
      "source": [
        "<br>So we could write a list comprehnsion to return a list of only the planets:"
      ]
    },
    {
      "cell_type": "code",
      "metadata": {
        "id": "dssrgKXMvxeH",
        "outputId": "8cfabeb0-7f68-4fb0-ecff-458443184467",
        "colab": {
          "base_uri": "https://localhost:8080/"
        }
      },
      "source": [
        "planets = [i for i in solar_system.keys() if solar_system[i] == \"planet\"]\n",
        "print(planets)"
      ],
      "execution_count": 58,
      "outputs": [
        {
          "output_type": "stream",
          "text": [
            "['Earth', 'Venus', 'Neptune', 'Jupiter', 'Mars', 'Saturn', 'Mercury', 'Uranus']\n"
          ],
          "name": "stdout"
        }
      ]
    },
    {
      "cell_type": "markdown",
      "metadata": {
        "id": "yaAc5PqxvxeH"
      },
      "source": [
        "#### <br>Exercise 5"
      ]
    },
    {
      "cell_type": "code",
      "metadata": {
        "id": "DIvnXaAhvxeH"
      },
      "source": [
        "solar_system = {\"Earth\": \"planet\", \"Venus\": \"planet\", \"Pluto\": \"dwarfplanet\", \n",
        "                \"Neptune\": \"planet\", \"Jupiter\": \"planet\", \"Mars\": \"planet\", \n",
        "                \"Ceres\": \"dwarfplanet\", \"Saturn\": \"planet\", \"Mercury\": \"planet\", \n",
        "                \"Eris\": \"dwarfplanet\", \"Uranus\": \"planet\", \n",
        "                \"Makemake\": \"dwarfplanet\", \"Haumea\": \"dwarfplanet\"}"
      ],
      "execution_count": 59,
      "outputs": []
    },
    {
      "cell_type": "markdown",
      "metadata": {
        "id": "gI7E8fcPvxeH"
      },
      "source": [
        "Pretend you feel very strongly that Pluto is a planet (or maybe you already do feel very strongly that Pluto is a planet). Modify the list comprehension below to include all the keys with \"planet\" as a value and also Pluto."
      ]
    },
    {
      "cell_type": "code",
      "metadata": {
        "id": "YiwYGkOavxeH"
      },
      "source": [
        "planets = [i for i in solar_system.keys() if solar_system[i] == \"planet\" or i == \"Pluto\"]"
      ],
      "execution_count": 64,
      "outputs": []
    },
    {
      "cell_type": "code",
      "metadata": {
        "id": "VYSB12t_vxeH",
        "outputId": "fab3389e-95c1-484b-e628-2c0eea51db7c",
        "colab": {
          "base_uri": "https://localhost:8080/"
        }
      },
      "source": [
        "print(planets)"
      ],
      "execution_count": 65,
      "outputs": [
        {
          "output_type": "stream",
          "text": [
            "['Earth', 'Venus', 'Pluto', 'Neptune', 'Jupiter', 'Mars', 'Saturn', 'Mercury', 'Uranus']\n"
          ],
          "name": "stdout"
        }
      ]
    },
    {
      "cell_type": "markdown",
      "metadata": {
        "id": "7seIdHePvxeH"
      },
      "source": [
        "### <br><br>Example 6: Making a list out of the lines in a file"
      ]
    },
    {
      "cell_type": "markdown",
      "metadata": {
        "id": "w0htb0IpvxeH"
      },
      "source": [
        "List comprehensions are very useful for making a list out of all the lines in a file. Remember that it is usually best to use `with` for opening files because it will automatically close the file and free up memory."
      ]
    },
    {
      "cell_type": "markdown",
      "metadata": {
        "id": "lUnflGWDvxeH"
      },
      "source": [
        "#### `with` statement and `for` loop"
      ]
    },
    {
      "cell_type": "code",
      "metadata": {
        "id": "Ivd1ARe4_B-f"
      },
      "source": [
        "import pandas as pd\n",
        "\n",
        "filename = \"genes.txt\"\n",
        "line_list = pd.read_csv(filename)\n",
        "\n",
        "print(line_list)"
      ],
      "execution_count": null,
      "outputs": []
    },
    {
      "cell_type": "code",
      "metadata": {
        "id": "cCerlxoovxeH",
        "outputId": "8059bb8e-e591-4245-adc3-513cc0dddb63",
        "colab": {
          "base_uri": "https://localhost:8080/"
        }
      },
      "source": [
        "line_list = []\n",
        "with open(\"genes.txt\", \"r\") as f:\n",
        "    for line in f:\n",
        "        line_list.append(line)\n",
        "print(line_list)"
      ],
      "execution_count": 72,
      "outputs": [
        {
          "output_type": "stream",
          "text": [
            "['gene02983.fa\\n', 'gene03837.fa\\n', 'gene09274.fa\\n', 'gene08434.fa\\n', 'gene02274.fa\\n', 'gene07262.fa\\n', 'gene06653.fa\\n', 'gene01635.fa\\n', 'gene05107.fa\\n', 'gene02939.fa\\n', 'protein07748.txt\\n', 'protein03625.txt\\n', 'gene08263.fa\\n', 'gene08825.fa\\n', 'gene07225.fa']\n"
          ],
          "name": "stdout"
        }
      ]
    },
    {
      "cell_type": "markdown",
      "metadata": {
        "id": "YSyCxEt-vxeH"
      },
      "source": [
        "#### list comprehension"
      ]
    },
    {
      "cell_type": "code",
      "metadata": {
        "id": "Dq7dhG5-vxeI"
      },
      "source": [
        "with open(\"genes.txt\", \"r\") as f:\n",
        "    line_list = [line for line in f]"
      ],
      "execution_count": 73,
      "outputs": []
    },
    {
      "cell_type": "code",
      "metadata": {
        "id": "nI3sngCrvxeI",
        "outputId": "a01ac4ec-2910-40b5-ca18-4fdf2c569bc0",
        "colab": {
          "base_uri": "https://localhost:8080/"
        }
      },
      "source": [
        "print(line_list)"
      ],
      "execution_count": 74,
      "outputs": [
        {
          "output_type": "stream",
          "text": [
            "['gene02983.fa\\n', 'gene03837.fa\\n', 'gene09274.fa\\n', 'gene08434.fa\\n', 'gene02274.fa\\n', 'gene07262.fa\\n', 'gene06653.fa\\n', 'gene01635.fa\\n', 'gene05107.fa\\n', 'gene02939.fa\\n', 'protein07748.txt\\n', 'protein03625.txt\\n', 'gene08263.fa\\n', 'gene08825.fa\\n', 'gene07225.fa']\n"
          ],
          "name": "stdout"
        }
      ]
    },
    {
      "cell_type": "markdown",
      "metadata": {
        "id": "XG2ttEP5vxeI"
      },
      "source": [
        "<br>Some of you might know that you can also get a list of lines by using the `readlines()` function, like this:"
      ]
    },
    {
      "cell_type": "code",
      "metadata": {
        "id": "f22XEY8vvxeI",
        "outputId": "6c07077e-3cfd-4f31-cef0-6dc9be4f0bbf",
        "colab": {
          "base_uri": "https://localhost:8080/"
        }
      },
      "source": [
        "with open(\"genes.txt\", \"r\") as f:\n",
        "    line_list = f.readlines()\n",
        "print(line_list)"
      ],
      "execution_count": 75,
      "outputs": [
        {
          "output_type": "stream",
          "text": [
            "['gene02983.fa\\n', 'gene03837.fa\\n', 'gene09274.fa\\n', 'gene08434.fa\\n', 'gene02274.fa\\n', 'gene07262.fa\\n', 'gene06653.fa\\n', 'gene01635.fa\\n', 'gene05107.fa\\n', 'gene02939.fa\\n', 'protein07748.txt\\n', 'protein03625.txt\\n', 'gene08263.fa\\n', 'gene08825.fa\\n', 'gene07225.fa']\n"
          ],
          "name": "stdout"
        }
      ]
    },
    {
      "cell_type": "markdown",
      "metadata": {
        "id": "X6DQtQx9vxeI"
      },
      "source": [
        "<br>However, there is an advantage to using a list comprehension instead of `readlines()`, which you will see in the next exercise."
      ]
    },
    {
      "cell_type": "markdown",
      "metadata": {
        "id": "cFDxNtWAvxeI"
      },
      "source": [
        "#### <br>Exercise 6.1"
      ]
    },
    {
      "cell_type": "markdown",
      "metadata": {
        "id": "sUQjPsmQvxeI"
      },
      "source": [
        "Remember that we can do something to the item in a list comprehension. Rewrite this list comprehension, using the `.rstrip()` function to remove the new line character from each line before adding it to the list."
      ]
    },
    {
      "cell_type": "code",
      "metadata": {
        "id": "kV7oN6q1vxeI"
      },
      "source": [
        "with open(\"genes.txt\", \"r\") as f:\n",
        "    line_list = [line.rstrip(\"\\n\") for line in f]"
      ],
      "execution_count": 77,
      "outputs": []
    },
    {
      "cell_type": "code",
      "metadata": {
        "id": "qa1VyP2gvxeI",
        "outputId": "01991ab4-5807-426d-f078-ac9ecb36c594",
        "colab": {
          "base_uri": "https://localhost:8080/"
        }
      },
      "source": [
        "print(line_list)"
      ],
      "execution_count": 78,
      "outputs": [
        {
          "output_type": "stream",
          "text": [
            "['gene02983.fa', 'gene03837.fa', 'gene09274.fa', 'gene08434.fa', 'gene02274.fa', 'gene07262.fa', 'gene06653.fa', 'gene01635.fa', 'gene05107.fa', 'gene02939.fa', 'protein07748.txt', 'protein03625.txt', 'gene08263.fa', 'gene08825.fa', 'gene07225.fa']\n"
          ],
          "name": "stdout"
        }
      ]
    },
    {
      "cell_type": "markdown",
      "metadata": {
        "id": "ll5gp-GQvxeI"
      },
      "source": [
        "#### <br>Exercise 6.2"
      ]
    },
    {
      "cell_type": "markdown",
      "metadata": {
        "id": "i_AY8gT4vxeI"
      },
      "source": [
        "Copy your code from exercise 6.1 into the cell below and then modify it to only include the gene files, leaving out the protein files."
      ]
    },
    {
      "cell_type": "code",
      "metadata": {
        "id": "TaVWTexavxeJ"
      },
      "source": [
        "with open(\"genes.txt\", \"r\") as f:\n",
        "    line_list = [line.rstrip(\"\\n\") for line in f if line[0:4] == \"gene\"]"
      ],
      "execution_count": 81,
      "outputs": []
    },
    {
      "cell_type": "code",
      "metadata": {
        "id": "kJVYJTlHvxeJ",
        "outputId": "1ec15942-3065-4797-f8b2-495d71a141f1",
        "colab": {
          "base_uri": "https://localhost:8080/"
        }
      },
      "source": [
        "print(line_list)"
      ],
      "execution_count": 82,
      "outputs": [
        {
          "output_type": "stream",
          "text": [
            "['gene02983.fa', 'gene03837.fa', 'gene09274.fa', 'gene08434.fa', 'gene02274.fa', 'gene07262.fa', 'gene06653.fa', 'gene01635.fa', 'gene05107.fa', 'gene02939.fa', 'gene08263.fa', 'gene08825.fa', 'gene07225.fa']\n"
          ],
          "name": "stdout"
        }
      ]
    },
    {
      "cell_type": "markdown",
      "metadata": {
        "id": "_XId3K0qvxeJ"
      },
      "source": [
        "### <br><br>Example 7: Making a list out of items in a file"
      ]
    },
    {
      "cell_type": "markdown",
      "metadata": {
        "id": "H3ShL-H8vxeJ"
      },
      "source": [
        "Let's say our file contains more information than we want to include in our list. If the file contains patterns that can be parsed, like comma-separated data (or tab-separated, space-separated, etc.), we can still use list comprehension."
      ]
    },
    {
      "cell_type": "markdown",
      "metadata": {
        "id": "hr13muHYvxeJ"
      },
      "source": [
        "First, let's see what the file we're going to work with looks like:"
      ]
    },
    {
      "cell_type": "code",
      "metadata": {
        "id": "X57v_kNTvxeJ",
        "outputId": "558205e0-371f-4d19-e8d0-d218a5f54eeb",
        "colab": {
          "base_uri": "https://localhost:8080/"
        }
      },
      "source": [
        "with open(\"genelengths.txt\", \"r\") as f:\n",
        "    for line in f:\n",
        "        print(line)"
      ],
      "execution_count": 83,
      "outputs": [
        {
          "output_type": "stream",
          "text": [
            "gene02983,55433\n",
            "\n",
            "gene03837,63024\n",
            "\n",
            "gene09274,10629\n",
            "\n",
            "gene08434,17350\n",
            "\n",
            "gene02274,18907\n",
            "\n",
            "gene07262,11634\n",
            "\n",
            "gene06653,38096\n",
            "\n",
            "gene01635,7698\n",
            "\n",
            "gene05107,20564\n",
            "\n",
            "gene02939,31837\n",
            "\n",
            "gene08263,24448\n",
            "\n",
            "gene08825,9861\n",
            "\n",
            "gene07225,19038\n"
          ],
          "name": "stdout"
        }
      ]
    },
    {
      "cell_type": "markdown",
      "metadata": {
        "id": "LYVa1QqNvxeJ"
      },
      "source": [
        "<br>We can write a list comprehension to make a list of only the first items in the list (all the characters before the commas on each line):"
      ]
    },
    {
      "cell_type": "code",
      "metadata": {
        "id": "0d-8BJBavxeJ",
        "outputId": "d68832a7-db09-4b2b-d150-cf7db818bb77",
        "colab": {
          "base_uri": "https://localhost:8080/"
        }
      },
      "source": [
        "with open(\"genelengths.txt\", \"r\") as f:\n",
        "    gene_names = [line.split(\",\")[0] for line in f]\n",
        "print(gene_names)"
      ],
      "execution_count": 88,
      "outputs": [
        {
          "output_type": "stream",
          "text": [
            "['gene02983', 'gene03837', 'gene09274', 'gene08434', 'gene02274', 'gene07262', 'gene06653', 'gene01635', 'gene05107', 'gene02939', 'gene08263', 'gene08825', 'gene07225']\n"
          ],
          "name": "stdout"
        }
      ]
    },
    {
      "cell_type": "markdown",
      "metadata": {
        "id": "2TEf62lPvxeJ"
      },
      "source": [
        "#### <br>Exercise 7"
      ]
    },
    {
      "cell_type": "markdown",
      "metadata": {
        "id": "xkOBcGjOvxeJ"
      },
      "source": [
        "Write a list comprehension to make a list called `lengths` of the gene lengths from the \"genelengths.txt\" file."
      ]
    },
    {
      "cell_type": "code",
      "metadata": {
        "id": "Us_j65I3vxeJ"
      },
      "source": [
        "with open(\"genelengths.txt\",\"r\") as f:\n",
        "  lengths = [i.rstrip(\"\\n\").split(\",\")[-1] for i in f]"
      ],
      "execution_count": 91,
      "outputs": []
    },
    {
      "cell_type": "code",
      "metadata": {
        "id": "16WkZQREvxeJ",
        "outputId": "6e2cdf4c-6518-43be-9049-56b7705f481c",
        "colab": {
          "base_uri": "https://localhost:8080/"
        }
      },
      "source": [
        "print(lengths)"
      ],
      "execution_count": 92,
      "outputs": [
        {
          "output_type": "stream",
          "text": [
            "['55433', '63024', '10629', '17350', '18907', '11634', '38096', '7698', '20564', '31837', '24448', '9861', '19038']\n"
          ],
          "name": "stdout"
        }
      ]
    },
    {
      "cell_type": "markdown",
      "metadata": {
        "id": "1IlNM8_7vxeK"
      },
      "source": [
        "## <br><br>Part 3 - Dictionary Comprehension"
      ]
    },
    {
      "cell_type": "markdown",
      "metadata": {
        "id": "ziV-55c6vxeK"
      },
      "source": [
        "You can also write dictionary comprehensions! Use curly brackets instead of square brackets, and include the key and value separated by a colon."
      ]
    },
    {
      "cell_type": "code",
      "metadata": {
        "id": "O5SsNnLyvxeK"
      },
      "source": [
        "students = [\"Jordan\", \"Gordon\", \"Morgan\", \"Horton\", \"Zorgon\", \"Corden\", \"Porgan\"]\n",
        "starting_grades = {i:0 for i in students}\n",
        "print(starting_grades)"
      ],
      "execution_count": null,
      "outputs": []
    },
    {
      "cell_type": "markdown",
      "metadata": {
        "id": "4HGKag88vxeK"
      },
      "source": [
        "#### Exercise D1"
      ]
    },
    {
      "cell_type": "markdown",
      "metadata": {
        "id": "U0dk_NM9vxeK"
      },
      "source": [
        "Use dictionary comprehension to turn this list of planets into a dictionary with the planet names as the keys and the word \"planet\" as the value."
      ]
    },
    {
      "cell_type": "code",
      "metadata": {
        "id": "RgbdyvHLvxeK"
      },
      "source": [
        "planet_list = [\"Earth\", \"Venus\", \"Mercury\", \"Mars\", \"Jupiter\", \"Saturn\", \"Neptune\", \"Uranus\"]"
      ],
      "execution_count": null,
      "outputs": []
    },
    {
      "cell_type": "code",
      "metadata": {
        "id": "2vl2h9HqvxeK"
      },
      "source": [
        "planet_dict = "
      ],
      "execution_count": null,
      "outputs": []
    },
    {
      "cell_type": "code",
      "metadata": {
        "id": "UBmqN7ayvxeK"
      },
      "source": [
        "print(planet_dict)"
      ],
      "execution_count": null,
      "outputs": []
    },
    {
      "cell_type": "markdown",
      "metadata": {
        "id": "BZr6bH2PvxeK"
      },
      "source": [
        "### <br><br>Using dictionary comprehension and `zip()` to combine two lists"
      ]
    },
    {
      "cell_type": "markdown",
      "metadata": {
        "id": "ZWjrBU_gvxeK"
      },
      "source": [
        "<br>You can also make a dictionary out of two lists using the `zip()` function. "
      ]
    },
    {
      "cell_type": "markdown",
      "metadata": {
        "id": "IWfAPJZVvxeK"
      },
      "source": [
        "Remember that when you loop through two items (like when you loop through both the keys and values in a dictionary) you include two values in your for statement, separated by a comma."
      ]
    },
    {
      "cell_type": "code",
      "metadata": {
        "id": "IhUcG0vkvxeK"
      },
      "source": [
        "students = [\"Jordan\", \"Gordon\", \"Morgan\", \"Horton\", \"Zorgon\", \"Corden\", \"Porgan\"]\n",
        "test_grades = [55, 75, 85, 100, 65, 75, 100]\n",
        "test_1 = {i:j for i,j in zip(students, test_grades)}\n",
        "print(test_1)"
      ],
      "execution_count": null,
      "outputs": []
    },
    {
      "cell_type": "markdown",
      "metadata": {
        "id": "SYZhRvwTvxeL"
      },
      "source": [
        "#### Exercise D2"
      ]
    },
    {
      "cell_type": "markdown",
      "metadata": {
        "id": "0AA1CSfnvxeL"
      },
      "source": [
        "Use dictionary comprehension and the zip function to combine these 2 lists of solar system objects and their planetary status. The keys should be the names of the objects and the values should be their status."
      ]
    },
    {
      "cell_type": "code",
      "metadata": {
        "id": "kv1pnHzrvxeL"
      },
      "source": [
        "objects = [\"Earth\", \"Venus\", \"Mercury\", \"Mars\", \"Jupiter\", \"Saturn\", \n",
        "           \"Neptune\", \"Uranus\", \"Ceres\", \"Eris\", \"Pluto\", \"Makemake\", \"Haumea\"]\n",
        "status = [\"planet\", \"planet\",\"planet\",\"planet\",\"planet\",\"planet\",\"planet\", \n",
        "          \"planet\", \"dwarfplanet\", \"dwarfplanet\", \"dwarfplanet\", \"dwarfplanet\", \"dwarfplanet\"]"
      ],
      "execution_count": null,
      "outputs": []
    },
    {
      "cell_type": "code",
      "metadata": {
        "id": "VGvlcThMvxeL"
      },
      "source": [
        "solar_system = "
      ],
      "execution_count": null,
      "outputs": []
    },
    {
      "cell_type": "code",
      "metadata": {
        "id": "WAZps-FMvxeL"
      },
      "source": [
        "print(solar_system)"
      ],
      "execution_count": null,
      "outputs": []
    },
    {
      "cell_type": "markdown",
      "metadata": {
        "id": "MnkT9pc4vxeL"
      },
      "source": [
        "### <br><br>Filter lists as you make a dictionary"
      ]
    },
    {
      "cell_type": "markdown",
      "metadata": {
        "id": "ks4X2RJ7vxeL"
      },
      "source": [
        "<br>Using a dictionary comprehension allows you to add conditionals while making the dictionary:"
      ]
    },
    {
      "cell_type": "code",
      "metadata": {
        "id": "H65BGGMqvxeL"
      },
      "source": [
        "students = [\"Jordan\", \"Gordon\", \"Morgan\", \"Horton\", \"Zorgon\", \"Corden\", \"Porgan\"]\n",
        "test_grades = [55, 75, 85, 100, 65, 75, 100]\n",
        "passing_grades = {i:j for i,j in zip(students, test_grades) if j >= 60}\n",
        "print(passing_grades)"
      ],
      "execution_count": null,
      "outputs": []
    },
    {
      "cell_type": "markdown",
      "metadata": {
        "id": "WJXfjhvDvxeL"
      },
      "source": [
        "#### Exercise D3"
      ]
    },
    {
      "cell_type": "markdown",
      "metadata": {
        "id": "-W8l6OtYvxeL"
      },
      "source": [
        "Make a dictionary with the object name as the key and the status as the value, but only include objects that are planets."
      ]
    },
    {
      "cell_type": "code",
      "metadata": {
        "id": "w-7N7-BpvxeL"
      },
      "source": [
        "objects = [\"Earth\", \"Venus\", \"Mercury\", \"Mars\", \"Jupiter\", \"Saturn\", \n",
        "           \"Neptune\", \"Uranus\", \"Ceres\", \"Eris\", \"Pluto\", \"Makemake\", \"Haumea\"]\n",
        "status = [\"planet\", \"planet\",\"planet\",\"planet\",\"planet\",\"planet\",\"planet\", \n",
        "          \"planet\", \"dwarfplanet\", \"dwarfplanet\", \"dwarfplanet\", \"dwarfplanet\", \"dwarfplanet\"]"
      ],
      "execution_count": null,
      "outputs": []
    },
    {
      "cell_type": "code",
      "metadata": {
        "id": "tYMOb9t4vxeM"
      },
      "source": [
        "planet_dict = "
      ],
      "execution_count": null,
      "outputs": []
    },
    {
      "cell_type": "code",
      "metadata": {
        "id": "UOebcSrxvxeM"
      },
      "source": [
        "print(planet_dict)"
      ],
      "execution_count": null,
      "outputs": []
    },
    {
      "cell_type": "markdown",
      "metadata": {
        "id": "VTk6v7kzvxeM"
      },
      "source": [
        "### <br><br>Filtering an existing dictionary"
      ]
    },
    {
      "cell_type": "markdown",
      "metadata": {
        "id": "DuIKonfCvxeM"
      },
      "source": [
        "<br>You can also use a dictionary comprehension to filter an existing dictionary. Since we want both the keys and values in our final dictionary, our for loop should use the `.items()` method function:"
      ]
    },
    {
      "cell_type": "code",
      "metadata": {
        "id": "J7V9nTsLvxeM"
      },
      "source": [
        "solar_system = {\"Earth\": \"planet\", \"Venus\": \"planet\", \"Pluto\": \"dwarfplanet\", \n",
        "                \"Neptune\": \"planet\", \"Jupiter\": \"planet\", \"Mars\": \"planet\", \n",
        "                \"Ceres\": \"dwarfplanet\", \"Saturn\": \"planet\", \"Mercury\": \"planet\", \n",
        "                \"Eris\": \"dwarfplanet\", \"Uranus\": \"planet\", \n",
        "                \"Makemake\": \"dwarfplanet\", \"Haumea\": \"dwarfplanet\"}\n",
        "planets_dict = {k:v for k,v in solar_system.items() if v == \"planet\"}\n",
        "print(planets_dict)"
      ],
      "execution_count": null,
      "outputs": []
    },
    {
      "cell_type": "markdown",
      "metadata": {
        "id": "MQ9coBPQvxeN"
      },
      "source": [
        "#### Exercise D4"
      ]
    },
    {
      "cell_type": "markdown",
      "metadata": {
        "id": "5xuxuz8fvxeN"
      },
      "source": [
        "Make a new dictionary that only includes students with grades over 90."
      ]
    },
    {
      "cell_type": "code",
      "metadata": {
        "id": "kByd3BD3vxeN"
      },
      "source": [
        "grade_dict = {'Jordan': 55, 'Gordon': 75, 'Morgan': 85, 'Horton': 100, \n",
        "              'Zorgon': 65, 'Corden': 75, 'Porgan': 100}"
      ],
      "execution_count": null,
      "outputs": []
    },
    {
      "cell_type": "code",
      "metadata": {
        "id": "gzGwZccbvxeN"
      },
      "source": [
        "A_students = "
      ],
      "execution_count": null,
      "outputs": []
    },
    {
      "cell_type": "code",
      "metadata": {
        "id": "1T0R0M3rvxeP"
      },
      "source": [
        "print(A_students)"
      ],
      "execution_count": null,
      "outputs": []
    },
    {
      "cell_type": "markdown",
      "metadata": {
        "id": "8zT-wjpjvxeP"
      },
      "source": [
        "### <br><br>Make changes to keys and values when creating the dictionary"
      ]
    },
    {
      "cell_type": "markdown",
      "metadata": {
        "id": "NV-75zjbvxeP"
      },
      "source": [
        "<br>You can make changes to the keys and values before adding them. Take a minute to try and predict the output of this code before you run it:"
      ]
    },
    {
      "cell_type": "code",
      "metadata": {
        "id": "zc78Ndi4vxeP"
      },
      "source": [
        "solar_system = {\"Earth\": \"planet\", \"Venus\": \"planet\", \"Pluto\": \"dwarfplanet\", \n",
        "                \"Neptune\": \"planet\", \"Jupiter\": \"planet\", \"Mars\": \"planet\", \n",
        "                \"Ceres\": \"dwarfplanet\", \"Saturn\": \"planet\", \"Mercury\": \"planet\", \n",
        "                \"Eris\": \"dwarfplanet\", \"Uranus\": \"planet\", \n",
        "                \"Makemake\": \"dwarfplanet\", \"Haumea\": \"dwarfplanet\"}\n",
        "planets_dict = {k.upper():v.capitalize() for k,v in solar_system.items() if v == \"planet\"}\n",
        "print(planets_dict)"
      ],
      "execution_count": null,
      "outputs": []
    },
    {
      "cell_type": "markdown",
      "metadata": {
        "id": "kgUYLjp2vxeP"
      },
      "source": [
        "#### Exercise D5"
      ]
    },
    {
      "cell_type": "markdown",
      "metadata": {
        "id": "HmiaBMz9vxeP"
      },
      "source": [
        "Use dictionary comprehension to create a dictionary called `students_ABC` with each student's name as the key, and the first letter of each student's name as the value."
      ]
    },
    {
      "cell_type": "code",
      "metadata": {
        "id": "iQ3chf3tvxeP"
      },
      "source": [
        "students = [\"Jordan\", \"Gordon\", \"Morgan\", \"Horton\", \"Zorgon\", \"Corden\", \"Porgan\"]"
      ],
      "execution_count": null,
      "outputs": []
    },
    {
      "cell_type": "code",
      "metadata": {
        "id": "Te0YEcLXvxeQ"
      },
      "source": [
        "students_ABC = "
      ],
      "execution_count": null,
      "outputs": []
    },
    {
      "cell_type": "code",
      "metadata": {
        "id": "MvvuFEyjvxeQ"
      },
      "source": [
        "print(students_ABC)"
      ],
      "execution_count": null,
      "outputs": []
    },
    {
      "cell_type": "markdown",
      "metadata": {
        "id": "tG8T-_bJvxeQ"
      },
      "source": [
        "### <br><br>Make a dictionary from data in a file"
      ]
    },
    {
      "cell_type": "markdown",
      "metadata": {
        "id": "3tb14jaHvxeQ"
      },
      "source": [
        "<br>Finally, you can use dictionary comprehension to make a dictionary from data in a file:"
      ]
    },
    {
      "cell_type": "code",
      "metadata": {
        "id": "qzXmbJJ0vxeQ"
      },
      "source": [
        "with open(\"genelengths.txt\", \"r\") as f:\n",
        "    length_dict = {line.split(\",\")[0]:line.split(\",\")[1].rstrip(\"\\n\") for line in f}\n",
        "print(length_dict)"
      ],
      "execution_count": null,
      "outputs": []
    },
    {
      "cell_type": "markdown",
      "metadata": {
        "id": "WMmKLndQvxeQ"
      },
      "source": [
        "#### Exercise D6"
      ]
    },
    {
      "cell_type": "markdown",
      "metadata": {
        "id": "uhp3SRt1vxeQ"
      },
      "source": [
        "The \"genes.txt\" file contains some genes and some proteins. Make a dictionary from that file that has each line as the key and either \"gene\" or \"protein\" as the value."
      ]
    },
    {
      "cell_type": "code",
      "metadata": {
        "id": "DetLbCsovxeQ"
      },
      "source": [
        ""
      ],
      "execution_count": null,
      "outputs": []
    },
    {
      "cell_type": "code",
      "metadata": {
        "id": "61pBWAeMvxeQ"
      },
      "source": [
        ""
      ],
      "execution_count": null,
      "outputs": []
    },
    {
      "cell_type": "code",
      "metadata": {
        "id": "VNB2W2dbvxeQ"
      },
      "source": [
        "print(gene_dict)"
      ],
      "execution_count": null,
      "outputs": []
    }
  ]
}